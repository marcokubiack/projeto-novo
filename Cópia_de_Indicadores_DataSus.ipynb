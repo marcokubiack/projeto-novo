{
  "nbformat": 4,
  "nbformat_minor": 0,
  "metadata": {
    "colab": {
      "provenance": [],
      "authorship_tag": "ABX9TyO/CN3wheYIrlFd5C0BONhy",
      "include_colab_link": true
    },
    "kernelspec": {
      "name": "python3",
      "display_name": "Python 3"
    },
    "language_info": {
      "name": "python"
    }
  },
  "cells": [
    {
      "cell_type": "markdown",
      "metadata": {
        "id": "view-in-github",
        "colab_type": "text"
      },
      "source": [
        "<a href=\"https://colab.research.google.com/github/marcokubiack/projeto-novo/blob/master/C%C3%B3pia_de_Indicadores_DataSus.ipynb\" target=\"_parent\"><img src=\"https://colab.research.google.com/assets/colab-badge.svg\" alt=\"Open In Colab\"/></a>"
      ]
    },
    {
      "cell_type": "code",
      "execution_count": null,
      "metadata": {
        "id": "NlxyIEWwJmGi",
        "colab": {
          "base_uri": "https://localhost:8080/"
        },
        "outputId": "5fa17b5e-ace7-4426-c7c7-705cbefd1f08"
      },
      "outputs": [
        {
          "output_type": "stream",
          "name": "stdout",
          "text": [
            "              nome            cnpj  cd_orgao  cd_ibge   ano  \\\n",
            "0      TRÊS COROAS  88199971000153     61700  4321709  2024   \n",
            "1          CRISTAL  90152240000102     66300  4306056  2021   \n",
            "2   DONA FRANCISCA  87488938000180     46600  4306700  2021   \n",
            "3   SALTO DO JACUÍ  89658025000190     64400  4316451  2022   \n",
            "4  TRÊS CACHOEIRAS  91103127000191     72200  4321667  2021   \n",
            "\n",
            "   qtd_partos_cesarianos  qtd_total_partos  pct_cesareos_ano  \n",
            "0                   63.0             114.0             55.26  \n",
            "1                   35.0              73.0             47.95  \n",
            "2                    3.0              12.0             25.00  \n",
            "3                   74.0              89.0             83.15  \n",
            "4                   62.0              91.0             68.13  \n"
          ]
        }
      ],
      "source": [
        "#Indicador 01 % de Partos Cesáreos\n",
        "import pandas as pd\n",
        "\n",
        "# Caminho para o arquivo CSV (ajuste se necessário)\n",
        "arquivo_csv = 'ind01.csv'\n",
        "\n",
        "# Leitura do arquivo CSV\n",
        "ind01 = pd.read_csv(arquivo_csv)\n",
        "\n",
        "# Exibir as primeiras linhas do DataFrame\n",
        "print(df.head())\n"
      ]
    },
    {
      "cell_type": "code",
      "source": [
        "# Verifica a quantidade de valores nulos por coluna\n",
        "nulos_por_coluna = ind01.isnull().sum()\n",
        "\n",
        "# Exibe o resultado\n",
        "print(nulos_por_coluna)\n"
      ],
      "metadata": {
        "id": "y_-UTEKGa_Hf"
      },
      "execution_count": null,
      "outputs": []
    },
    {
      "cell_type": "code",
      "source": [
        "#Linhas nulas\n",
        "linhas_com_qualquer_nulo = df[df.isnull().any(axis=1)]\n",
        "print(linhas_com_qualquer_nulo)"
      ],
      "metadata": {
        "id": "xXY9by9Rb23P"
      },
      "execution_count": null,
      "outputs": []
    },
    {
      "cell_type": "code",
      "source": [
        "#linhas de uma coluna nula\n",
        "linhas_nulas = df[df['pct_cesareos_ano'].isnull()]\n",
        "print(linhas_nulas)"
      ],
      "metadata": {
        "id": "0iQ7600wz240"
      },
      "execution_count": null,
      "outputs": []
    },
    {
      "cell_type": "markdown",
      "source": [
        "Teste"
      ],
      "metadata": {
        "id": "KC31isXA4C0M"
      }
    }
  ]
}