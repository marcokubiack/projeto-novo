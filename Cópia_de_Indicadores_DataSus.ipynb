{
  "nbformat": 4,
  "nbformat_minor": 0,
  "metadata": {
    "colab": {
      "provenance": [],
      "authorship_tag": "ABX9TyOcBV5KKyIdjXDAUjDpUD2Z",
      "include_colab_link": true
    },
    "kernelspec": {
      "name": "python3",
      "display_name": "Python 3"
    },
    "language_info": {
      "name": "python"
    }
  },
  "cells": [
    {
      "cell_type": "markdown",
      "metadata": {
        "id": "view-in-github",
        "colab_type": "text"
      },
      "source": [
        "<a href=\"https://colab.research.google.com/github/marcokubiack/projeto-novo/blob/master/C%C3%B3pia_de_Indicadores_DataSus.ipynb\" target=\"_parent\"><img src=\"https://colab.research.google.com/assets/colab-badge.svg\" alt=\"Open In Colab\"/></a>"
      ]
    },
    {
      "cell_type": "code",
      "execution_count": null,
      "metadata": {
        "id": "NlxyIEWwJmGi",
        "colab": {
          "base_uri": "https://localhost:8080/"
        },
        "outputId": "5fa17b5e-ace7-4426-c7c7-705cbefd1f08"
      },
      "outputs": [
        {
          "output_type": "stream",
          "name": "stdout",
          "text": [
            "              nome            cnpj  cd_orgao  cd_ibge   ano  \\\n",
            "0      TRÊS COROAS  88199971000153     61700  4321709  2024   \n",
            "1          CRISTAL  90152240000102     66300  4306056  2021   \n",
            "2   DONA FRANCISCA  87488938000180     46600  4306700  2021   \n",
            "3   SALTO DO JACUÍ  89658025000190     64400  4316451  2022   \n",
            "4  TRÊS CACHOEIRAS  91103127000191     72200  4321667  2021   \n",
            "\n",
            "   qtd_partos_cesarianos  qtd_total_partos  pct_cesareos_ano  \n",
            "0                   63.0             114.0             55.26  \n",
            "1                   35.0              73.0             47.95  \n",
            "2                    3.0              12.0             25.00  \n",
            "3                   74.0              89.0             83.15  \n",
            "4                   62.0              91.0             68.13  \n"
          ]
        }
      ],
      "source": [
        "#Indicador 01 % de Partos Cesáreos\n",
        "import pandas as pd\n",
        "\n",
        "# Caminho para o arquivo CSV (ajuste se necessário)\n",
        "arquivo_csv = 'ind01.csv'\n",
        "\n",
        "# Leitura do arquivo CSV\n",
        "ind01 = pd.read_csv(arquivo_csv)\n",
        "\n",
        "# Exibir as primeiras linhas do DataFrame\n",
        "print(df.head())\n"
      ]
    },
    {
      "cell_type": "code",
      "source": [
        "# Verifica a quantidade de valores nulos por coluna\n",
        "nulos_por_coluna = ind01.isnull().sum()\n",
        "\n",
        "# Exibe o resultado\n",
        "print(nulos_por_coluna)\n"
      ],
      "metadata": {
        "id": "y_-UTEKGa_Hf"
      },
      "execution_count": null,
      "outputs": []
    },
    {
      "cell_type": "code",
      "source": [
        "#Linhas nulas\n",
        "linhas_com_qualquer_nulo = df[df.isnull().any(axis=1)]\n",
        "print(linhas_com_qualquer_nulo)"
      ],
      "metadata": {
        "id": "xXY9by9Rb23P"
      },
      "execution_count": null,
      "outputs": []
    },
    {
      "cell_type": "code",
      "source": [
        "#linhas de uma coluna nula\n",
        "linhas_nulas = df[df['pct_cesareos_ano'].isnull()]\n",
        "print(linhas_nulas)"
      ],
      "metadata": {
        "colab": {
          "base_uri": "https://localhost:8080/"
        },
        "id": "0iQ7600wz240",
        "outputId": "c467a163-f015-4d4c-feb4-1498bab510a7"
      },
      "execution_count": null,
      "outputs": [
        {
          "output_type": "stream",
          "name": "stdout",
          "text": [
            "                       nome            cnpj  cd_orgao  cd_ibge   ano  \\\n",
            "67           UNIÃO DA SERRA  92902154000197     82200  4322350  2023   \n",
            "68                     IRAÍ  87612941000164     50400  4310504  2025   \n",
            "69    GRAMADO DOS LOUREIROS  94703964000140     75800  4309126  2025   \n",
            "70              VILA FLORES  91566869000153     72800  4323309  2025   \n",
            "71                 TAPEJARA  87615449000142     60900  4320909  2025   \n",
            "...                     ...             ...       ...      ...   ...   \n",
            "2480                MAQUINÉ  94436342000100     76800  4311775  2025   \n",
            "2481                COLINAS  94706140000123     74900  4305587  2025   \n",
            "2482        SALVADOR DO SUL  87860763000190     56500  4316501  2025   \n",
            "2483  SÃO JOSÉ DO HORTÊNCIO  92122753000198     71300  4318481  2025   \n",
            "2484                CAIÇARA  87612925000171     43400  4303400  2025   \n",
            "\n",
            "      qtd_partos_cesarianos  qtd_total_partos  pct_cesareos_ano  \n",
            "67                      NaN               NaN               NaN  \n",
            "68                      NaN               NaN               NaN  \n",
            "69                      NaN               NaN               NaN  \n",
            "70                      NaN               NaN               NaN  \n",
            "71                      NaN               NaN               NaN  \n",
            "...                     ...               ...               ...  \n",
            "2480                    NaN               NaN               NaN  \n",
            "2481                    NaN               NaN               NaN  \n",
            "2482                    NaN               NaN               NaN  \n",
            "2483                    NaN               NaN               NaN  \n",
            "2484                    NaN               NaN               NaN  \n",
            "\n",
            "[537 rows x 8 columns]\n"
          ]
        }
      ]
    }
  ]
}